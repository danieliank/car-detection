{
 "cells": [
  {
   "cell_type": "code",
   "execution_count": 1,
   "metadata": {},
   "outputs": [],
   "source": [
    "import pycocotools\n",
    "from ultralytics import YOLO\n",
    "import numpy as np\n",
    "import pandas as pd\n",
    "import matplotlib.pyplot as plt\n",
    "import seaborn as sns\n",
    "import cv2\n",
    "import os\n",
    "import yaml\n",
    "import torch\n",
    "import shutil"
   ]
  },
  {
   "cell_type": "code",
   "execution_count": 2,
   "metadata": {},
   "outputs": [
    {
     "ename": "SyntaxError",
     "evalue": "(unicode error) 'unicodeescape' codec can't decode bytes in position 2-3: truncated \\UXXXXXXXX escape (1401578287.py, line 1)",
     "output_type": "error",
     "traceback": [
      "\u001b[1;36m  Cell \u001b[1;32mIn[2], line 1\u001b[1;36m\u001b[0m\n\u001b[1;33m    train_dir = \"C:\\Users\\danielian\\Documents\\carr-detection\\data\\training_images\"\u001b[0m\n\u001b[1;37m                                                                                  ^\u001b[0m\n\u001b[1;31mSyntaxError\u001b[0m\u001b[1;31m:\u001b[0m (unicode error) 'unicodeescape' codec can't decode bytes in position 2-3: truncated \\UXXXXXXXX escape\n"
     ]
    }
   ],
   "source": [
    "train_dir = \"C:\\Users\\danielian\\Documents\\carr-detection\\data\\training_images\"\n",
    "train_labels = \"C:\\Users\\danielian\\Documents\\car-detection\\data\\train_solution_bounding_boxes (1).csv\"\n",
    "test_dir = \"C:\\Users\\danielian\\Documents\\car-detection\\data\\testing_images\""
   ]
  },
  {
   "cell_type": "code",
   "execution_count": null,
   "metadata": {},
   "outputs": [
    {
     "ename": "OSError",
     "evalue": "[WinError 123] The filename, directory name, or volume label syntax is incorrect: 'data\\training_images'",
     "output_type": "error",
     "traceback": [
      "\u001b[1;31m---------------------------------------------------------------------------\u001b[0m",
      "\u001b[1;31mOSError\u001b[0m                                   Traceback (most recent call last)",
      "\u001b[1;32mc:\\Users\\danielian\\Documents\\car_detection\\yolo_only.ipynb Cell 3\u001b[0m line \u001b[0;36m1\n\u001b[1;32m----> <a href='vscode-notebook-cell:/c%3A/Users/danielian/Documents/car_detection/yolo_only.ipynb#W2sZmlsZQ%3D%3D?line=0'>1</a>\u001b[0m imgs_list\u001b[39m=\u001b[39m\u001b[39mlist\u001b[39m(\u001b[39msorted\u001b[39m(os\u001b[39m.\u001b[39;49mlistdir(train_dir)))\n\u001b[0;32m      <a href='vscode-notebook-cell:/c%3A/Users/danielian/Documents/car_detection/yolo_only.ipynb#W2sZmlsZQ%3D%3D?line=1'>2</a>\u001b[0m idxs\u001b[39m=\u001b[39m\u001b[39mlist\u001b[39m(\u001b[39mrange\u001b[39m(\u001b[39mlen\u001b[39m(imgs_list)))\n\u001b[0;32m      <a href='vscode-notebook-cell:/c%3A/Users/danielian/Documents/car_detection/yolo_only.ipynb#W2sZmlsZQ%3D%3D?line=2'>3</a>\u001b[0m np\u001b[39m.\u001b[39mrandom\u001b[39m.\u001b[39mshuffle(idxs)\n",
      "\u001b[1;31mOSError\u001b[0m: [WinError 123] The filename, directory name, or volume label syntax is incorrect: 'data\\training_images'"
     ]
    }
   ],
   "source": [
    "imgs_list=list(sorted(os.listdir(train_dir)))\n",
    "idxs=list(range(len(imgs_list)))\n",
    "np.random.shuffle(idxs)\n",
    "\n",
    "train_idx=idxs[:int(0.8*len(idxs))]\n",
    "val_idx=idxs[int(0.8*len(idxs)):]"
   ]
  },
  {
   "cell_type": "code",
   "execution_count": null,
   "metadata": {},
   "outputs": [
    {
     "ename": "SyntaxError",
     "evalue": "(unicode error) 'unicodeescape' codec can't decode bytes in position 2-3: truncated \\UXXXXXXXX escape (1495942294.py, line 1)",
     "output_type": "error",
     "traceback": [
      "\u001b[1;36m  Cell \u001b[1;32mIn[1], line 1\u001b[1;36m\u001b[0m\n\u001b[1;33m    root_dir=\"C:\\Users\\danielian\\Documents\\car_detection\\data\\working\\data\"\u001b[0m\n\u001b[1;37m                                                                           ^\u001b[0m\n\u001b[1;31mSyntaxError\u001b[0m\u001b[1;31m:\u001b[0m (unicode error) 'unicodeescape' codec can't decode bytes in position 2-3: truncated \\UXXXXXXXX escape\n"
     ]
    }
   ],
   "source": [
    "root_dir=\"C:\\Users\\danielian\\Documents\\car-detection\\data\\working\\data\"\n",
    "labels_dir=\"C:\\Users\\danielian\\Documents\\car-detection\\data\\working\\labels\"\n",
    "images_dir=\"C:\\Users\\danielian\\Documents\\car-detection\\data\\working\\images\""
   ]
  },
  {
   "cell_type": "code",
   "execution_count": null,
   "metadata": {},
   "outputs": [],
   "source": [
    "df=pd.read_csv(train_labels)\n",
    "\n",
    "width=676\n",
    "height=380\n",
    "\n",
    "df[\"class\"]=0\n",
    "df.rename(columns={'image':'img_name'}, inplace=True)\n",
    "\n",
    "df[\"x_centre\"]=(df[\"xmin\"]+df[\"xmax\"])/2\n",
    "df[\"y_centre\"]=(df[\"ymin\"]+df[\"ymax\"])/2\n",
    "df[\"width\"]=(df[\"xmax\"]-df[\"xmin\"])\n",
    "df[\"height\"]=(df[\"ymax\"]-df[\"ymin\"])\n",
    "\n",
    "#normalizing bounding box coordinates\n",
    "df[\"x_centre\"]=df[\"x_centre\"]/width\n",
    "df[\"y_centre\"]=df[\"y_centre\"]/height\n",
    "df[\"width\"]=df[\"width\"]/width\n",
    "df[\"height\"]=df[\"height\"]/height\n",
    "\n",
    "df_yolo=df[[\"img_name\",\"class\",\"x_centre\",\"y_centre\",\"width\",\"height\"]]\n",
    "df_yolo.head()"
   ]
  },
  {
   "cell_type": "code",
   "execution_count": null,
   "metadata": {},
   "outputs": [],
   "source": [
    "for idx,img_name in enumerate(imgs_list):\n",
    "    subset=\"train\"\n",
    "    if idx in val_idx:\n",
    "        subset=\"val\"\n",
    "        \n",
    "    if np.isin(img_name,df_yolo[\"img_name\"]):\n",
    "        columns=[\"class\",\"x_centre\",\"y_centre\",\"width\",\"height\"]\n",
    "        img_bbox=df_yolo[df_yolo[\"img_name\"]==img_name][columns].values\n",
    "        \n",
    "        label_file_path=os.path.join(labels_dir,subset,img_name[:-4]+\".txt\")\n",
    "        with open(label_file_path,\"w+\") as f:\n",
    "            for row in img_bbox:\n",
    "                text=\" \".join(row.astype(str))\n",
    "                f.write(text)\n",
    "                f.write(\"\\n\")\n",
    "                \n",
    "    old_image_path=os.path.join(train_dir,img_name)\n",
    "    new_image_path=os.path.join(images_dir,subset,img_name)\n",
    "    shutil.copy(old_image_path,new_image_path)"
   ]
  },
  {
   "cell_type": "code",
   "execution_count": null,
   "metadata": {},
   "outputs": [
    {
     "ename": "SyntaxError",
     "evalue": "(unicode error) 'unicodeescape' codec can't decode bytes in position 2-3: truncated \\UXXXXXXXX escape (1169988869.py, line 1)",
     "output_type": "error",
     "traceback": [
      "\u001b[1;36m  Cell \u001b[1;32mIn[2], line 1\u001b[1;36m\u001b[0m\n\u001b[1;33m    yolo_format=dict(path=\"C:\\Users\\danielian\\Documents\\car_detection\\data\\working\\data\",\u001b[0m\n\u001b[1;37m                                                                                        ^\u001b[0m\n\u001b[1;31mSyntaxError\u001b[0m\u001b[1;31m:\u001b[0m (unicode error) 'unicodeescape' codec can't decode bytes in position 2-3: truncated \\UXXXXXXXX escape\n"
     ]
    }
   ],
   "source": [
    "yolo_format=dict(path=\"C:\\Users\\danielian\\Documents\\car-detection\\data\\working\\data\",\n",
    "                 train=\"C:\\Users\\danielian\\Documents\\car-detection\\data\\working\\data\\images\\train\",\n",
    "                 val=\"C:\\Users\\danielian\\Documents\\car-detection\\data\\working\\data\\images\\val\",\n",
    "                 nc=1,\n",
    "                 names={0:\"car\"})\n",
    "             \n",
    "with open('C:\\Users\\danielian\\Documents\\car-detection\\data\\working\\yolo.yaml', 'w') as outfile:\n",
    "    yaml.dump(yolo_format, outfile, default_flow_style=False)"
   ]
  },
  {
   "cell_type": "markdown",
   "metadata": {},
   "source": [
    "Training"
   ]
  },
  {
   "cell_type": "code",
   "execution_count": null,
   "metadata": {},
   "outputs": [],
   "source": [
    "model=YOLO('yolov8m.pt')\n",
    "model.train(data=\"C:\\Users\\danielian\\Documents\\car-detection\\data\\working\\yolo.yaml\",epochs=50,patience=5,batch=8,lr0=0.0005,imgsz=640)"
   ]
  },
  {
   "cell_type": "markdown",
   "metadata": {},
   "source": [
    "Validate"
   ]
  },
  {
   "cell_type": "code",
   "execution_count": null,
   "metadata": {},
   "outputs": [
    {
     "ename": "NameError",
     "evalue": "name 'YOLO' is not defined",
     "output_type": "error",
     "traceback": [
      "\u001b[1;31m---------------------------------------------------------------------------\u001b[0m",
      "\u001b[1;31mNameError\u001b[0m                                 Traceback (most recent call last)",
      "\u001b[1;32mc:\\Users\\danielian\\Documents\\car_detection\\yolo_only.ipynb Cell 11\u001b[0m line \u001b[0;36m2\n\u001b[0;32m      <a href='vscode-notebook-cell:/c%3A/Users/danielian/Documents/car_detection/yolo_only.ipynb#X14sZmlsZQ%3D%3D?line=0'>1</a>\u001b[0m path_best_weights\u001b[39m=\u001b[39m\u001b[39m\"\u001b[39m\u001b[39m/kaggle/working/runs/detect/train/weights/best.pt\u001b[39m\u001b[39m\"\u001b[39m\n\u001b[1;32m----> <a href='vscode-notebook-cell:/c%3A/Users/danielian/Documents/car_detection/yolo_only.ipynb#X14sZmlsZQ%3D%3D?line=1'>2</a>\u001b[0m model \u001b[39m=\u001b[39m YOLO(path_best_weights) \n\u001b[0;32m      <a href='vscode-notebook-cell:/c%3A/Users/danielian/Documents/car_detection/yolo_only.ipynb#X14sZmlsZQ%3D%3D?line=3'>4</a>\u001b[0m metrics \u001b[39m=\u001b[39m model\u001b[39m.\u001b[39mval()\n",
      "\u001b[1;31mNameError\u001b[0m: name 'YOLO' is not defined"
     ]
    }
   ],
   "source": [
    "path_best_weights=\"C:\\Users\\danielian\\Documents\\car-detection\\data\\working\\runs\\detect\\train\\weights\\best.pt\"\n",
    "model = YOLO(path_best_weights) \n",
    "\n",
    "metrics = model.val()"
   ]
  },
  {
   "cell_type": "code",
   "execution_count": null,
   "metadata": {},
   "outputs": [],
   "source": [
    "print(f\"Mean Average Precision @.5:.95 : {metrics.box.map}\")    \n",
    "print(f\"Mean Average Precision @ .50   : {metrics.box.map50}\") \n",
    "print(f\"Mean Average Precision @ .70   : {metrics.box.map75}\")"
   ]
  }
 ],
 "metadata": {
  "kernelspec": {
   "display_name": "car_detection",
   "language": "python",
   "name": "python3"
  },
  "language_info": {
   "codemirror_mode": {
    "name": "ipython",
    "version": 3
   },
   "file_extension": ".py",
   "mimetype": "text/x-python",
   "name": "python",
   "nbconvert_exporter": "python",
   "pygments_lexer": "ipython3",
   "version": "3.11.5"
  },
  "orig_nbformat": 4
 },
 "nbformat": 4,
 "nbformat_minor": 2
}
